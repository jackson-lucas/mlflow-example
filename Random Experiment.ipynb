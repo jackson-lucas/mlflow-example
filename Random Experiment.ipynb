{
 "cells": [
  {
   "cell_type": "code",
   "execution_count": 2,
   "metadata": {
    "ExecuteTime": {
     "end_time": "2020-05-01T06:56:30.542747Z",
     "start_time": "2020-05-01T06:56:29.103413Z"
    }
   },
   "outputs": [],
   "source": [
    "import os\n",
    "\n",
    "import pandas as pd\n",
    "import xgboost as xgb\n",
    "\n",
    "from sklearn import datasets\n",
    "from sklearn.model_selection import train_test_split\n",
    "from sklearn.metrics import accuracy_score, log_loss, confusion_matrix\n",
    "\n",
    "import matplotlib.pyplot as plt\n",
    "import seaborn as sns\n",
    "\n",
    "import mlflow\n",
    "from mlflow import log_metric, log_param, log_params, log_artifacts, log_artifact"
   ]
  },
  {
   "cell_type": "code",
   "execution_count": 16,
   "metadata": {
    "ExecuteTime": {
     "end_time": "2020-05-01T13:32:16.648171Z",
     "start_time": "2020-05-01T13:32:16.631214Z"
    },
    "code_folding": [
     0
    ]
   },
   "outputs": [],
   "source": [
    "def main(split_random_state=0, model_random_state=0):\n",
    "    mlflow.set_experiment('random_exp')\n",
    "\n",
    "    # prepare train and test data\n",
    "    iris = datasets.load_iris()\n",
    "    X = iris.data\n",
    "    y = iris.target\n",
    "    class_names = iris.target_names\n",
    "    X_train, X_test, y_train, y_test = train_test_split(X, y, test_size=0.2, random_state=split_random_state)\n",
    "    \n",
    "    dtrain = xgb.DMatrix(X_train, label=y_train)\n",
    "    dtest = xgb.DMatrix(X_test, label=y_test)\n",
    "\n",
    "    with mlflow.start_run(nested=True):\n",
    "        # train model\n",
    "        params = {\n",
    "            'objective': 'multi:softprob',\n",
    "            'num_class': 3,\n",
    "            'eval_metric': 'mlogloss',\n",
    "            'colsample_bytree': 0.8,\n",
    "            'subsample': 0.9,\n",
    "            'seed': model_random_state,\n",
    "        }     \n",
    "\n",
    "        # log params received\n",
    "        log_param('split_random_state', split_random_state)\n",
    "        log_param('model_random_state', model_random_state)\n",
    "        log_param('model_params', params)\n",
    "\n",
    "        model = xgb.train(params, dtrain, evals=[(dtrain, 'train')], verbose_eval=False)\n",
    "\n",
    "        # evaluate model\n",
    "        y_proba = model.predict(dtest)\n",
    "        y_pred = y_proba.argmax(axis=1)\n",
    "        loss = log_loss(y_test, y_proba)\n",
    "        acc = accuracy_score(y_test, y_pred)\n",
    "\n",
    "        # log metrics\n",
    "        mlflow.log_metrics({'log_loss': loss, 'accuracy': acc})\n",
    "        \n",
    "        # plot confusion matrix\n",
    "        cm = confusion_matrix(y_test, y_pred)\n",
    "        cm_df = pd.DataFrame(cm,\n",
    "                     index = class_names, \n",
    "                     columns = class_names)\n",
    "        plt.figure(figsize=(5.5,4))\n",
    "        confusion_plot = sns.heatmap(cm_df, annot=True)\n",
    "        plt.title('XGBoost split:{0} model:{1} \\nAccuracy:{2:.3f}'.format(\n",
    "            split_random_state, model_random_state, acc))\n",
    "        plt.ylabel('True label')\n",
    "        plt.xlabel('Predicted label')\n",
    "        fig = confusion_plot.get_figure()\n",
    "        fig.savefig(\"confusion_matrix.png\")\n",
    "        plt.close()\n",
    "        \n",
    "        log_artifact(\"confusion_matrix.png\")"
   ]
  },
  {
   "cell_type": "code",
   "execution_count": 17,
   "metadata": {
    "ExecuteTime": {
     "end_time": "2020-05-01T13:33:52.866613Z",
     "start_time": "2020-05-01T13:32:19.533103Z"
    }
   },
   "outputs": [
    {
     "name": "stdout",
     "output_type": "stream",
     "text": [
      "INFO: 'random_exp' does not exist. Creating a new experiment\n"
     ]
    }
   ],
   "source": [
    "for split_random_state in np.arange(0,100):\n",
    "    main(split_random_state)\n",
    "for model_random_state in np.arange(0,100):\n",
    "    main(0, model_random_state)"
   ]
  }
 ],
 "metadata": {
  "kernelspec": {
   "display_name": "Python 3",
   "language": "python",
   "name": "python3"
  },
  "language_info": {
   "codemirror_mode": {
    "name": "ipython",
    "version": 3
   },
   "file_extension": ".py",
   "mimetype": "text/x-python",
   "name": "python",
   "nbconvert_exporter": "python",
   "pygments_lexer": "ipython3",
   "version": "3.6.9"
  },
  "toc": {
   "base_numbering": 1,
   "nav_menu": {},
   "number_sections": true,
   "sideBar": true,
   "skip_h1_title": false,
   "title_cell": "Table of Contents",
   "title_sidebar": "Contents",
   "toc_cell": false,
   "toc_position": {},
   "toc_section_display": true,
   "toc_window_display": false
  },
  "varInspector": {
   "cols": {
    "lenName": 16,
    "lenType": 16,
    "lenVar": 40
   },
   "kernels_config": {
    "python": {
     "delete_cmd_postfix": "",
     "delete_cmd_prefix": "del ",
     "library": "var_list.py",
     "varRefreshCmd": "print(var_dic_list())"
    },
    "r": {
     "delete_cmd_postfix": ") ",
     "delete_cmd_prefix": "rm(",
     "library": "var_list.r",
     "varRefreshCmd": "cat(var_dic_list()) "
    }
   },
   "types_to_exclude": [
    "module",
    "function",
    "builtin_function_or_method",
    "instance",
    "_Feature"
   ],
   "window_display": false
  }
 },
 "nbformat": 4,
 "nbformat_minor": 2
}
